{
 "cells": [
  {
   "cell_type": "code",
   "execution_count": 20,
   "metadata": {},
   "outputs": [],
   "source": [
    "import pandas as pd\n",
    "from sklearn.metrics import accuracy_score\n",
    "dataset = pd.read_csv(\"data/dataset_train.csv\")"
   ]
  },
  {
   "cell_type": "code",
   "execution_count": 2,
   "metadata": {},
   "outputs": [],
   "source": [
    "def encode_dataset(dataframe):\n",
    "    dataframe = dataframe.drop(\"capital-gain\", axis=1)\n",
    "    dataframe = dataframe.drop(\"capital-loss\", axis=1)\n",
    "    dataframe[\"workclass\"] = dataframe[\"workclass\"].map({'Private': 0.5, 'Self-emp-not-inc': 0.5,'Local-gov': 0.5, '?':0.5,'State-gov': 0.7, 'Self-emp-inc': 1, 'Federal-gov': 0.85, 'Without-pay': 0.2,'Never-worked':0.1})\n",
    "    dataframe[\"education\"] = dataframe[\"education\"].map({'HS-grad': 0.4, 'Some-college': 0.4,'Bachelors': 0.75,'Masters': 0.75, 'Assoc-voc': 0.5, '11th': 0.3, 'Assoc-acdm': 0.5,'10th':0.3, '7th-8th': 0.3,'Prof-school':0.95, '9th': 0.3, '12th': 0.3,'Doctorate': 0.95,'5th-6th': 0.3, '1st-4th': 0.1,'Preschool': 0.1})\n",
    "    dataframe[\"marital-status\"] = dataframe[\"marital-status\"].map({'Married-civ-spouse': 0.7, 'Never-married': 0.2, 'Divorced': 0.2,'Widowed': 0.2, 'Separated': 0.2, 'Married-spouse-absent': 0.5,'Married-AF-spouse': 0.5})\n",
    "    dataframe[\"occupation\"] = dataframe[\"occupation\"].map({'Prof-specialty': 0.8, 'Craft-repair': 0.5, 'Exec-managerial': 0.8,'Adm-clerical': 0.4, 'Sales': 0.5, 'Other-service': 0.3,'Machine-op-inspct': 0.3, '?': 0.5,'Transport-moving': 0.5, 'Handlers-cleaners': 0.3,'Farming-fishing': 0.4,'Tech-support': 0.45,'Protective-serv': 0.45,'Priv-house-serv': 0.1, 'Armed-Forces': 0.4})\n",
    "    dataframe[\"relationship\"] = dataframe[\"relationship\"].map({'Husband': 0.9, 'Not-in-family': 0.3,'Own-child': 0.1, 'Wife':0.9,'Other-relative': 0.3, 'Unmarried': 0.3})\n",
    "    dataframe[\"race\"] = dataframe[\"race\"].map({'White': 0.5, 'Black': 0.3,'Asian-Pac-Islander': 0.5, 'Amer-Indian-Eskimo':0.3,'Other': 0.3})\n",
    "    dataframe[\"gender\"] = dataframe[\"gender\"].map({'Male': 0.7, 'Female': 0.3})\n",
    "    dataframe[\"native-country\"] = dataframe[\"native-country\"].map({'Mexico':0.3 ,'Puerto-Rico':0.3 ,'El-Salvador':0.3 ,'Dominican-Republic':0.3 ,'Columbia':0.3, 'United-States' :0.5 , '?' :0.5 , 'Cuba':0.5, 'Philippines' :0.5 , 'Germany' :0.5 , 'China' :0.5 , 'India' :0.5 , 'England' :0.5 , 'Jamaica' :0.5 , 'South' :0.5 , 'Guatemala' :0.5 , 'Vietnam' :0.5 , 'Poland' :0.5 , 'Italy' :0.5 , 'Haiti' :0.5 , 'Portugal' :0.5 , 'Japan' :0.5 , 'Peru' :0.5 , 'Taiwan' :0.5 , 'Nicaragua' :0.5 , 'Ecuador' :0.5 , 'Iran' :0.5 , 'Greece' :0.5 , 'Thailand' :0.5 , 'Trinadad&Tobago' :0.5 , 'Outlying-US(Guam-USVI-etc)' :0.5 , 'Cambodia' :0.5 , 'Ireland' :0.5 , 'Laos' :0.5 , 'France' :0.5 , 'Hong' :0.5 , 'Honduras' :0.5 , 'Scotland' :0.5 , 'Yugoslavia' :0.5 , 'Hungary' :0.5 , 'Holand-Netherlands':0.5, 'Canada':0.7})\n",
    "    dataframe[\"income\"] = dataframe[\"income\"].map({'<=50K':0, '>50K':1})\n",
    "    dataframe[\"age\"] = (dataframe[\"age\"]-17)/73\n",
    "    dataframe[\"educational-num\"] = (dataframe[\"educational-num\"]-1)/15\n",
    "    dataframe[\"hours-per-week\"]  = dataframe[\"hours-per-week\"].apply(lambda x: 1 if x > 80 else (x-1)/80)\n",
    "    dataframe[\"fnlwgt\"] = dataframe[\"fnlwgt\"].apply(lambda x: 1 if x > 700000 else (x-12285)/787715)\n",
    "    \n",
    "    return dataframe"
   ]
  },
  {
   "cell_type": "code",
   "execution_count": 3,
   "metadata": {},
   "outputs": [],
   "source": [
    "data_norm = encode_dataset(dataset)\n",
    "X_dataset = data_norm.drop('income', axis=1)\n",
    "y_dataset = data_norm['income']"
   ]
  },
  {
   "cell_type": "code",
   "execution_count": 4,
   "metadata": {},
   "outputs": [],
   "source": [
    "pdata = pd.read_csv(\"data/p_test.csv\")\n",
    "pdata_norm = encode_dataset(pdata)\n",
    "X_p = pdata_norm.drop('income', axis=1)\n",
    "y_p = pdata_norm['income']"
   ]
  },
  {
   "cell_type": "code",
   "execution_count": 5,
   "metadata": {},
   "outputs": [
    {
     "data": {
      "text/plain": [
       "MultinomialNB(alpha=1.0, class_prior=None, fit_prior=True)"
      ]
     },
     "execution_count": 5,
     "metadata": {},
     "output_type": "execute_result"
    }
   ],
   "source": [
    "from sklearn.naive_bayes import MultinomialNB\n",
    "clf = MultinomialNB()\n",
    "clf.fit(X_dataset, y_dataset)"
   ]
  },
  {
   "cell_type": "code",
   "execution_count": 6,
   "metadata": {},
   "outputs": [
    {
     "name": "stdout",
     "output_type": "stream",
     "text": [
      "MultinomialNB accuracy:  0.758828948715324\n"
     ]
    }
   ],
   "source": [
    "y_pred = clf.predict(X_p)\n",
    "print(\"MultinomialNB accuracy: \", accuracy_score(y_p, y_pred))"
   ]
  },
  {
   "cell_type": "code",
   "execution_count": 7,
   "metadata": {},
   "outputs": [],
   "source": [
    "def encode_dataset_2(dataframe):\n",
    "    dataframe[\"workclass\"] = dataframe[\"workclass\"].map({'Private': 0, 'Self-emp-not-inc': 1,'Local-gov': 2, '?':3,'State-gov': 4, 'Self-emp-inc': 5, 'Federal-gov': 6, 'Without-pay': 7,'Never-worked':8 })\n",
    "    dataframe[\"education\"] = dataframe[\"education\"].map({'HS-grad': 0, 'Some-college': 1,'Bachelors': 2, '?':3,'Masters': 4, 'Assoc-voc': 5, '11th': 6, 'Assoc-acdm': 7,'10th':8, '7th-8th': 9,'Prof-school':10, '9th': 10, '12th': 11,'Doctorate': 12,'5th-6th': 13, '1st-4th': 14,'Preschool': 15   })\n",
    "    dataframe[\"marital-status\"] = dataframe[\"marital-status\"].map({'Married-civ-spouse': 0, 'Never-married': 1, 'Divorced': 2,'Widowed': 3, 'Separated': 4, 'Married-spouse-absent': 5,'Married-AF-spouse': 6 })\n",
    "    dataframe[\"occupation\"] = dataframe[\"occupation\"].map({'Prof-specialty': 0, 'Craft-repair': 1, 'Exec-managerial': 2,'Adm-clerical': 3, 'Sales': 4, 'Other-service': 5,'Machine-op-inspct': 6, '?': 7,'Transport-moving': 8, 'Handlers-cleaners': 9,'Farming-fishing': 10,'Tech-support': 11,'Protective-serv': 12,'Priv-house-serv': 13, 'Armed-Forces': 14})\n",
    "    dataframe[\"relationship\"] = dataframe[\"relationship\"].map({'Husband': 0, 'Not-in-family': 1,'Own-child': 2, 'Wife':3,'Other-relative': 4, 'Unmarried': 5})\n",
    "    dataframe[\"race\"] = dataframe[\"race\"].map({'White': 0, 'Black': 1,'Asian-Pac-Islander': 2, 'Amer-Indian-Eskimo':3,'Other': 4})\n",
    "    dataframe[\"gender\"] = dataframe[\"gender\"].map({'Male': 1, 'Female': 0})\n",
    "    dataframe[\"native-country\"] = dataframe[\"native-country\"].replace(['United-States'], 0)\n",
    "    dataframe[\"native-country\"] = dataframe[\"native-country\"].replace(['Mexico', '?', 'Philippines', 'Puerto-Rico', 'Canada', 'Germany', 'El-Salvador', 'Cuba', 'India', 'England', 'China', 'Dominican-Republic', 'Italy', 'South', 'Columbia', 'Japan', 'Jamaica', 'Poland', 'Guatemala', 'Haiti', 'Vietnam', 'Taiwan', 'Iran', 'Portugal', 'Ecuador', 'Nicaragua', 'Greece', 'Peru', 'Ireland', 'France', 'Cambodia', 'Thailand', 'Hong', 'Trinadad&Tobago', 'Honduras', 'Laos', 'Outlying-US(Guam-USVI-etc)', 'Yugoslavia', 'Hungary', 'Scotland', 'Holand-Netherlands'], 1)\n",
    "    dataframe[\"income\"] = dataframe[\"income\"].map({'<=50K':0, '>50K':1})\n",
    "    return dataframe"
   ]
  },
  {
   "cell_type": "code",
   "execution_count": 8,
   "metadata": {},
   "outputs": [],
   "source": [
    "data_norm = encode_dataset_2(dataset)\n",
    "X_dataset = data_norm.drop('income', axis=1)\n",
    "y_dataset = data_norm['income']\n",
    "\n",
    "pdata_norm = encode_dataset_2(pdata)\n",
    "X_p = pdata_norm.drop('income', axis=1)\n",
    "y_p = pdata_norm['income']"
   ]
  },
  {
   "cell_type": "code",
   "execution_count": 9,
   "metadata": {},
   "outputs": [
    {
     "data": {
      "text/plain": [
       "MultinomialNB(alpha=1.0, class_prior=None, fit_prior=True)"
      ]
     },
     "execution_count": 9,
     "metadata": {},
     "output_type": "execute_result"
    }
   ],
   "source": [
    "clf = MultinomialNB()\n",
    "clf.fit(X_dataset, y_dataset)"
   ]
  },
  {
   "cell_type": "code",
   "execution_count": 10,
   "metadata": {},
   "outputs": [
    {
     "name": "stdout",
     "output_type": "stream",
     "text": [
      "MultinomialNB accuracy:  0.7846248336574879\n"
     ]
    }
   ],
   "source": [
    "y_pred = clf.predict(X_p)\n",
    "print(\"MultinomialNB accuracy: \", accuracy_score(y_p, y_pred))"
   ]
  },
  {
   "cell_type": "code",
   "execution_count": 11,
   "metadata": {},
   "outputs": [
    {
     "data": {
      "text/html": [
       "<div>\n",
       "<style scoped>\n",
       "    .dataframe tbody tr th:only-of-type {\n",
       "        vertical-align: middle;\n",
       "    }\n",
       "\n",
       "    .dataframe tbody tr th {\n",
       "        vertical-align: top;\n",
       "    }\n",
       "\n",
       "    .dataframe thead th {\n",
       "        text-align: right;\n",
       "    }\n",
       "</style>\n",
       "<table border=\"1\" class=\"dataframe\">\n",
       "  <thead>\n",
       "    <tr style=\"text-align: right;\">\n",
       "      <th></th>\n",
       "      <th>age</th>\n",
       "      <th>workclass</th>\n",
       "      <th>fnlwgt</th>\n",
       "      <th>education</th>\n",
       "      <th>educational-num</th>\n",
       "      <th>marital-status</th>\n",
       "      <th>occupation</th>\n",
       "      <th>relationship</th>\n",
       "      <th>race</th>\n",
       "      <th>gender</th>\n",
       "      <th>capital-gain</th>\n",
       "      <th>capital-loss</th>\n",
       "      <th>hours-per-week</th>\n",
       "      <th>native-country</th>\n",
       "    </tr>\n",
       "  </thead>\n",
       "  <tbody>\n",
       "    <tr>\n",
       "      <th>0</th>\n",
       "      <td>67</td>\n",
       "      <td>3</td>\n",
       "      <td>101761</td>\n",
       "      <td>1</td>\n",
       "      <td>10</td>\n",
       "      <td>0</td>\n",
       "      <td>7</td>\n",
       "      <td>0</td>\n",
       "      <td>0</td>\n",
       "      <td>1</td>\n",
       "      <td>0</td>\n",
       "      <td>0</td>\n",
       "      <td>40</td>\n",
       "      <td>0</td>\n",
       "    </tr>\n",
       "    <tr>\n",
       "      <th>1</th>\n",
       "      <td>57</td>\n",
       "      <td>0</td>\n",
       "      <td>190942</td>\n",
       "      <td>14</td>\n",
       "      <td>2</td>\n",
       "      <td>3</td>\n",
       "      <td>13</td>\n",
       "      <td>1</td>\n",
       "      <td>1</td>\n",
       "      <td>0</td>\n",
       "      <td>0</td>\n",
       "      <td>0</td>\n",
       "      <td>30</td>\n",
       "      <td>0</td>\n",
       "    </tr>\n",
       "    <tr>\n",
       "      <th>2</th>\n",
       "      <td>27</td>\n",
       "      <td>0</td>\n",
       "      <td>141545</td>\n",
       "      <td>0</td>\n",
       "      <td>9</td>\n",
       "      <td>0</td>\n",
       "      <td>8</td>\n",
       "      <td>0</td>\n",
       "      <td>0</td>\n",
       "      <td>1</td>\n",
       "      <td>0</td>\n",
       "      <td>1902</td>\n",
       "      <td>45</td>\n",
       "      <td>0</td>\n",
       "    </tr>\n",
       "    <tr>\n",
       "      <th>3</th>\n",
       "      <td>61</td>\n",
       "      <td>1</td>\n",
       "      <td>392694</td>\n",
       "      <td>1</td>\n",
       "      <td>10</td>\n",
       "      <td>2</td>\n",
       "      <td>2</td>\n",
       "      <td>1</td>\n",
       "      <td>0</td>\n",
       "      <td>1</td>\n",
       "      <td>0</td>\n",
       "      <td>0</td>\n",
       "      <td>50</td>\n",
       "      <td>0</td>\n",
       "    </tr>\n",
       "    <tr>\n",
       "      <th>4</th>\n",
       "      <td>34</td>\n",
       "      <td>4</td>\n",
       "      <td>327902</td>\n",
       "      <td>2</td>\n",
       "      <td>13</td>\n",
       "      <td>0</td>\n",
       "      <td>0</td>\n",
       "      <td>0</td>\n",
       "      <td>0</td>\n",
       "      <td>1</td>\n",
       "      <td>0</td>\n",
       "      <td>0</td>\n",
       "      <td>55</td>\n",
       "      <td>0</td>\n",
       "    </tr>\n",
       "  </tbody>\n",
       "</table>\n",
       "</div>"
      ],
      "text/plain": [
       "   age  workclass  fnlwgt  education  educational-num  marital-status  \\\n",
       "0   67          3  101761          1               10               0   \n",
       "1   57          0  190942         14                2               3   \n",
       "2   27          0  141545          0                9               0   \n",
       "3   61          1  392694          1               10               2   \n",
       "4   34          4  327902          2               13               0   \n",
       "\n",
       "   occupation  relationship  race  gender  capital-gain  capital-loss  \\\n",
       "0           7             0     0       1             0             0   \n",
       "1          13             1     1       0             0             0   \n",
       "2           8             0     0       1             0          1902   \n",
       "3           2             1     0       1             0             0   \n",
       "4           0             0     0       1             0             0   \n",
       "\n",
       "   hours-per-week  native-country  \n",
       "0              40               0  \n",
       "1              30               0  \n",
       "2              45               0  \n",
       "3              50               0  \n",
       "4              55               0  "
      ]
     },
     "execution_count": 11,
     "metadata": {},
     "output_type": "execute_result"
    }
   ],
   "source": [
    "X_dataset.head(5)"
   ]
  },
  {
   "cell_type": "code",
   "execution_count": 12,
   "metadata": {},
   "outputs": [],
   "source": [
    "# for index, row in X_dataset.head(2).iterrows():\n",
    "#     print(y_dataset[index])\n",
    "#     for i, item in enumerate(row):\n",
    "#         print(i, item)\n",
    "#     print(\"-----------\")"
   ]
  },
  {
   "cell_type": "code",
   "execution_count": 13,
   "metadata": {},
   "outputs": [],
   "source": [
    "def write_livsvm_format(filename, xdata, ylabel):\n",
    "    fulltext = \"\"\n",
    "    for index, row in xdata.iterrows():\n",
    "        new_row = str(ylabel[index])\n",
    "        for i, item in enumerate(row):\n",
    "            new_row +=(\" \"+str(i+1)+\":\"+str(item))\n",
    "        new_row+=\"\\n\"\n",
    "        fulltext+=new_row\n",
    "    with open(filename, mode='wt', encoding='utf-8') as myfile:\n",
    "        myfile.write(fulltext)\n",
    "            "
   ]
  },
  {
   "cell_type": "code",
   "execution_count": 14,
   "metadata": {},
   "outputs": [],
   "source": [
    "write_livsvm_format(\"train_svm.txt\", X_dataset, y_dataset)"
   ]
  },
  {
   "cell_type": "code",
   "execution_count": 15,
   "metadata": {},
   "outputs": [
    {
     "data": {
      "text/html": [
       "<div>\n",
       "<style scoped>\n",
       "    .dataframe tbody tr th:only-of-type {\n",
       "        vertical-align: middle;\n",
       "    }\n",
       "\n",
       "    .dataframe tbody tr th {\n",
       "        vertical-align: top;\n",
       "    }\n",
       "\n",
       "    .dataframe thead th {\n",
       "        text-align: right;\n",
       "    }\n",
       "</style>\n",
       "<table border=\"1\" class=\"dataframe\">\n",
       "  <thead>\n",
       "    <tr style=\"text-align: right;\">\n",
       "      <th></th>\n",
       "      <th>age</th>\n",
       "      <th>workclass</th>\n",
       "      <th>fnlwgt</th>\n",
       "      <th>education</th>\n",
       "      <th>educational-num</th>\n",
       "      <th>marital-status</th>\n",
       "      <th>occupation</th>\n",
       "      <th>relationship</th>\n",
       "      <th>race</th>\n",
       "      <th>gender</th>\n",
       "      <th>capital-gain</th>\n",
       "      <th>capital-loss</th>\n",
       "      <th>hours-per-week</th>\n",
       "      <th>native-country</th>\n",
       "    </tr>\n",
       "  </thead>\n",
       "  <tbody>\n",
       "    <tr>\n",
       "      <th>0</th>\n",
       "      <td>67</td>\n",
       "      <td>3</td>\n",
       "      <td>101761</td>\n",
       "      <td>1</td>\n",
       "      <td>10</td>\n",
       "      <td>0</td>\n",
       "      <td>7</td>\n",
       "      <td>0</td>\n",
       "      <td>0</td>\n",
       "      <td>1</td>\n",
       "      <td>0</td>\n",
       "      <td>0</td>\n",
       "      <td>40</td>\n",
       "      <td>0</td>\n",
       "    </tr>\n",
       "    <tr>\n",
       "      <th>1</th>\n",
       "      <td>57</td>\n",
       "      <td>0</td>\n",
       "      <td>190942</td>\n",
       "      <td>14</td>\n",
       "      <td>2</td>\n",
       "      <td>3</td>\n",
       "      <td>13</td>\n",
       "      <td>1</td>\n",
       "      <td>1</td>\n",
       "      <td>0</td>\n",
       "      <td>0</td>\n",
       "      <td>0</td>\n",
       "      <td>30</td>\n",
       "      <td>0</td>\n",
       "    </tr>\n",
       "    <tr>\n",
       "      <th>2</th>\n",
       "      <td>27</td>\n",
       "      <td>0</td>\n",
       "      <td>141545</td>\n",
       "      <td>0</td>\n",
       "      <td>9</td>\n",
       "      <td>0</td>\n",
       "      <td>8</td>\n",
       "      <td>0</td>\n",
       "      <td>0</td>\n",
       "      <td>1</td>\n",
       "      <td>0</td>\n",
       "      <td>1902</td>\n",
       "      <td>45</td>\n",
       "      <td>0</td>\n",
       "    </tr>\n",
       "    <tr>\n",
       "      <th>3</th>\n",
       "      <td>61</td>\n",
       "      <td>1</td>\n",
       "      <td>392694</td>\n",
       "      <td>1</td>\n",
       "      <td>10</td>\n",
       "      <td>2</td>\n",
       "      <td>2</td>\n",
       "      <td>1</td>\n",
       "      <td>0</td>\n",
       "      <td>1</td>\n",
       "      <td>0</td>\n",
       "      <td>0</td>\n",
       "      <td>50</td>\n",
       "      <td>0</td>\n",
       "    </tr>\n",
       "    <tr>\n",
       "      <th>4</th>\n",
       "      <td>34</td>\n",
       "      <td>4</td>\n",
       "      <td>327902</td>\n",
       "      <td>2</td>\n",
       "      <td>13</td>\n",
       "      <td>0</td>\n",
       "      <td>0</td>\n",
       "      <td>0</td>\n",
       "      <td>0</td>\n",
       "      <td>1</td>\n",
       "      <td>0</td>\n",
       "      <td>0</td>\n",
       "      <td>55</td>\n",
       "      <td>0</td>\n",
       "    </tr>\n",
       "  </tbody>\n",
       "</table>\n",
       "</div>"
      ],
      "text/plain": [
       "   age  workclass  fnlwgt  education  educational-num  marital-status  \\\n",
       "0   67          3  101761          1               10               0   \n",
       "1   57          0  190942         14                2               3   \n",
       "2   27          0  141545          0                9               0   \n",
       "3   61          1  392694          1               10               2   \n",
       "4   34          4  327902          2               13               0   \n",
       "\n",
       "   occupation  relationship  race  gender  capital-gain  capital-loss  \\\n",
       "0           7             0     0       1             0             0   \n",
       "1          13             1     1       0             0             0   \n",
       "2           8             0     0       1             0          1902   \n",
       "3           2             1     0       1             0             0   \n",
       "4           0             0     0       1             0             0   \n",
       "\n",
       "   hours-per-week  native-country  \n",
       "0              40               0  \n",
       "1              30               0  \n",
       "2              45               0  \n",
       "3              50               0  \n",
       "4              55               0  "
      ]
     },
     "execution_count": 15,
     "metadata": {},
     "output_type": "execute_result"
    }
   ],
   "source": [
    "X_dataset.head()"
   ]
  },
  {
   "cell_type": "code",
   "execution_count": 21,
   "metadata": {},
   "outputs": [],
   "source": [
    "data_norm1 = encode_dataset(dataset)\n",
    "X_dataset1 = data_norm1.drop('income', axis=1)\n",
    "y_dataset1 = data_norm1['income']\n",
    "\n",
    "pdata_norm1 = encode_dataset(pdata)\n",
    "X_p = pdata_norm1.drop('income', axis=1)\n",
    "y_p = pdata_norm1['income']"
   ]
  },
  {
   "cell_type": "code",
   "execution_count": 22,
   "metadata": {},
   "outputs": [],
   "source": [
    "write_livsvm_format(\"train_svm_encode2.txt\", X_dataset1, y_dataset1)"
   ]
  },
  {
   "cell_type": "code",
   "execution_count": null,
   "metadata": {},
   "outputs": [],
   "source": []
  }
 ],
 "metadata": {
  "kernelspec": {
   "display_name": "Python 3",
   "language": "python",
   "name": "python3"
  },
  "language_info": {
   "codemirror_mode": {
    "name": "ipython",
    "version": 3
   },
   "file_extension": ".py",
   "mimetype": "text/x-python",
   "name": "python",
   "nbconvert_exporter": "python",
   "pygments_lexer": "ipython3",
   "version": "3.6.7"
  }
 },
 "nbformat": 4,
 "nbformat_minor": 2
}
